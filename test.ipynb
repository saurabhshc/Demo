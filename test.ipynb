{
 "cells": [
  {
   "cell_type": "code",
   "execution_count": null,
   "metadata": {},
   "outputs": [],
   "source": [
    "import pandas as pd"
   ]
  },
  {
   "cell_type": "code",
   "execution_count": null,
   "metadata": {},
   "outputs": [
    {
     "name": "stdout",
     "output_type": "stream",
     "text": [
      "CSV file 'sample_data.csv' created successfully.\n"
     ]
    }
   ],
   "source": [
    "# Create a dictionary with the data\n",
    "data = {\n",
    "    'Name': ['Alice', 'Bob', 'Charlie', 'David', 'Eva', 'Frank', 'Grace', 'Hannah', 'Ian', 'Jack'],\n",
    "    'Age': [28, 34, 30, 40, 25, 38, 27, 32, 29, 35],\n",
    "    'City': ['New York', 'Los Angeles', 'Chicago', 'Houston', 'San Francisco', 'Boston', 'Seattle', 'Denver', 'Washington', 'Miami'],\n",
    "    'Salary': [70000, 80000, 75000, 85000, 95000, 82000, 72000, 78000, 76000, 83000]\n",
    "}\n",
    "\n",
    "# Convert the dictionary to a DataFrame\n",
    "df = pd.DataFrame(data)\n",
    "\n",
    "# Save the DataFrame to a CSV file\n",
    "df.to_csv('sample_data.csv', index=False)\n",
    "\n",
    "print(\"CSV file 'sample_data.csv' created successfully.\")\n"
   ]
  },
  {
   "cell_type": "code",
   "execution_count": null,
   "metadata": {},
   "outputs": [
    {
     "name": "stdout",
     "output_type": "stream",
     "text": [
      "      Name  Age           City  Salary\n",
      "0    Alice   28       New York   70000\n",
      "1      Bob   34    Los Angeles   80000\n",
      "2  Charlie   30        Chicago   75000\n",
      "3    David   40        Houston   85000\n",
      "4      Eva   25  San Francisco   95000\n",
      "5    Frank   38         Boston   82000\n",
      "6    Grace   27        Seattle   72000\n",
      "7   Hannah   32         Denver   78000\n",
      "8      Ian   29     Washington   76000\n",
      "9     Jack   35          Miami   83000\n"
     ]
    }
   ],
   "source": [
    "df = pd.read_excel('sample_data.xlsb', engine='pyxlsb')\n",
    "print(df)"
   ]
  },
  {
   "cell_type": "code",
   "execution_count": null,
   "metadata": {},
   "outputs": [
    {
     "name": "stdout",
     "output_type": "stream",
     "text": [
      "      Name   Age           City   Salary\n",
      "0    Alice  28.0       New York  70000.0\n",
      "1      Bob  34.0    Los Angeles  80000.0\n",
      "2  Charlie  30.0        Chicago  75000.0\n",
      "3    David  40.0        Houston  85000.0\n",
      "4      Eva  25.0  San Francisco  95000.0\n",
      "5    Frank  38.0         Boston  82000.0\n",
      "6    Grace  27.0        Seattle  72000.0\n",
      "7   Hannah  32.0         Denver  78000.0\n",
      "8      Ian  29.0     Washington  76000.0\n",
      "9     Jack  35.0          Miami  83000.0\n"
     ]
    }
   ],
   "source": [
    "input_file = 'sample_data.xlsb'\n",
    "output_file = 'sample_data.xlsb'\n",
    "sheet_name = 'sample_data'\n",
    "\n",
    "# Step 1: Read from the .xlsb file\n",
    "df_original = read_xlsb(input_file, sheet_name)\n",
    "print(df_original)"
   ]
  },
  {
   "cell_type": "code",
   "execution_count": null,
   "metadata": {},
   "outputs": [
    {
     "name": "stdout",
     "output_type": "stream",
     "text": [
      "Original Data:\n",
      "      Name   Age           City   Salary\n",
      "0    Alice  28.0       New York  70000.0\n",
      "1      Bob  34.0    Los Angeles  80000.0\n",
      "2  Charlie  30.0        Chicago  75000.0\n",
      "3    David  40.0        Houston  85000.0\n",
      "4      Eva  25.0  San Francisco  95000.0\n",
      "Error writing to the .xlsb file: 'str' object has no attribute 'open'\n"
     ]
    }
   ],
   "source": [
    "import pandas as pd\n",
    "from pyxlsb import open_workbook as open_xlsb\n",
    "\n",
    "# Function to read data from .xlsb file into a DataFrame\n",
    "def read_xlsb(file_path, sheet_name):\n",
    "    with open_xlsb(file_path) as wb:\n",
    "        with wb.get_sheet(sheet_name) as sheet:\n",
    "            data = []\n",
    "            for row in sheet.rows():\n",
    "                data.append([item.v for item in row])\n",
    "    return pd.DataFrame(data[1:], columns=data[0])\n",
    "\n",
    "# Function to write DataFrame to .xlsb file\n",
    "def write_to_xlsb(df, file_path, sheet_name):\n",
    "    from pyxlsb import Workbook\n",
    "    with Workbook(file_path) as wb:\n",
    "        wb.add_worksheet(df.values.tolist(), sheet_name=sheet_name, columns=df.columns.tolist())\n",
    "\n",
    "# File paths\n",
    "input_file = 'sample_data.xlsb'\n",
    "output_file = 'sample_data.xlsb'\n",
    "sheet_name = 'sample_data'\n",
    "\n",
    "# Step 1: Read from the .xlsb file\n",
    "try:\n",
    "    df_original = read_xlsb(input_file, sheet_name)\n",
    "    print(\"Original Data:\")\n",
    "    print(df_original.head())\n",
    "except Exception as e:\n",
    "    print(f\"Error reading the .xlsb file: {e}\")\n",
    "\n",
    "# Step 2: Create new data (example)\n",
    "new_data = {\n",
    "    'Name': ['Liam', 'Noah', 'Oliver'],\n",
    "    'Age': [22, 23, 24],\n",
    "    'City': ['San Diego', 'Austin', 'Dallas'],\n",
    "    'Salary': [68000, 72000, 75000]\n",
    "}\n",
    "df_new = pd.DataFrame(new_data)\n",
    "\n",
    "# Step 3: Append or update data in the DataFrame as needed\n",
    "# Example: Append new data to the original DataFrame\n",
    "df_updated = pd.concat([df_original, df_new], ignore_index=True)\n",
    "\n",
    "# Step 4: Write the updated DataFrame to a new .xlsb file\n",
    "try:\n",
    "    write_to_xlsb(df_updated, output_file, sheet_name)\n",
    "    print(f\"Data written to '{output_file}' successfully.\")\n",
    "except Exception as e:\n",
    "    print(f\"Error writing to the .xlsb file: {e}\")\n"
   ]
  },
  {
   "cell_type": "code",
   "execution_count": null,
   "metadata": {},
   "outputs": [],
   "source": [
    "voices = engine.getProperty('voices')       #getting details of current voice\n",
    "#engine.setProperty('voice', voices[0].id)  #changing index, changes voices. o for male\n"
   ]
  },
  {
   "cell_type": "code",
   "execution_count": 33,
   "metadata": {},
   "outputs": [],
   "source": [
    "### To Speak any word or sentance given under below engine\n",
    "import pyttsx3\n",
    "engine = pyttsx3.init()\n",
    "voices = engine.getProperty('voices')\n",
    "engine.setProperty('voice', voices[1].id) \n",
    "engine.say(\"AKSHAY AAPKA toeh SAHEE HAIN \")\n",
    "engine.runAndWait()\n"
   ]
  },
  {
   "cell_type": "code",
   "execution_count": null,
   "metadata": {},
   "outputs": [
    {
     "name": "stdout",
     "output_type": "stream",
     "text": [
      "3 Database Admins walked into a NoSQL bar. A little while later they walked out because they couldn't find a table.\n"
     ]
    }
   ],
   "source": [
    "import pyjokes\n",
    "\n",
    "# This prints a random joke\n",
    "joke = pyjokes.get_joke()\n",
    "print(joke)\n"
   ]
  },
  {
   "cell_type": "code",
   "execution_count": 78,
   "metadata": {},
   "outputs": [],
   "source": [
    "import tkinter as tk\n",
    "from tkinter import messagebox\n",
    "\n",
    "def submit_form():\n",
    "    name = entry_name.get()\n",
    "    age = entry_age.get()\n",
    "    gender = gender_var.get()\n",
    "    course = entry_course.get()\n",
    "\n",
    "    if name and age and gender and course:\n",
    "        # In a real application, you'd typically save this information to a database or file.\n",
    "        messagebox.showinfo(\"Form Submitted\", f\"Student Details:\\n\\nName: {name}\\nAge: {age}\\nGender: {gender}\\nCourse: {course}\")\n",
    "    else:\n",
    "        messagebox.showwarning(\"Input Error\", \"Please fill in all fields.\")\n",
    "\n",
    "# Create the main application window\n",
    "root = tk.Tk()\n",
    "root.title(\"Student Application Form\")\n",
    "\n",
    "# Create and place the labels and entry widgets for each field\n",
    "tk.Label(root, text=\"Name\").grid(row=0, column=0, padx=10, pady=5)\n",
    "entry_name = tk.Entry(root)\n",
    "entry_name.grid(row=0, column=1, padx=10, pady=5)\n",
    "\n",
    "tk.Label(root, text=\"Age\").grid(row=1, column=0, padx=10, pady=5)\n",
    "entry_age = tk.Entry(root)\n",
    "entry_age.grid(row=1, column=1, padx=10, pady=5)\n",
    "\n",
    "tk.Label(root, text=\"Gender\").grid(row=2, column=0, padx=10, pady=5)\n",
    "gender_var = tk.StringVar()\n",
    "gender_var.set(\"Male\")  # Default value\n",
    "tk.Radiobutton(root, text=\"Male\", variable=gender_var, value=\"Male\").grid(row=2, column=1, padx=10, pady=5, sticky=tk.W)\n",
    "tk.Radiobutton(root, text=\"Female\", variable=gender_var, value=\"Female\").grid(row=2, column=2, padx=10, pady=5, sticky=tk.W)\n",
    "\n",
    "tk.Label(root, text=\"Course\").grid(row=3, column=0, padx=10, pady=5)\n",
    "entry_course = tk.Entry(root)\n",
    "entry_course.grid(row=3, column=1, padx=10, pady=5)\n",
    "\n",
    "# Create and place the submit button\n",
    "submit_button = tk.Button(root, text=\"Submit\", command=submit_form)\n",
    "submit_button.grid(row=4, column=0, columnspan=3, pady=10)\n",
    "\n",
    "# Run the application\n",
    "root.mainloop()\n"
   ]
  },
  {
   "cell_type": "code",
   "execution_count": null,
   "metadata": {},
   "outputs": [
    {
     "data": {
      "text/plain": [
       "['SQL Server',\n",
       " 'SQL Server Native Client RDA 11.0',\n",
       " 'ODBC Driver 17 for SQL Server',\n",
       " 'Microsoft Access Driver (*.mdb, *.accdb)',\n",
       " 'Microsoft Excel Driver (*.xls, *.xlsx, *.xlsm, *.xlsb)',\n",
       " 'Microsoft Access Text Driver (*.txt, *.csv)']"
      ]
     },
     "execution_count": 9,
     "metadata": {},
     "output_type": "execute_result"
    }
   ],
   "source": [
    "import pyodbc \n",
    "pyodbc.drivers()"
   ]
  },
  {
   "cell_type": "code",
   "execution_count": null,
   "metadata": {},
   "outputs": [],
   "source": [
    "import pyodbc\n",
    "conn = pyodbc.connect('DRIVER={SQL Server};'\n",
    "                              'SERVER=SAURABH-PC\\\\SQLEXPRESS;'\n",
    "                              'DATABASE=SAURABH;'\n",
    "                              'Trusted_Connection=yes;'\n",
    "                              )"
   ]
  },
  {
   "cell_type": "code",
   "execution_count": null,
   "metadata": {},
   "outputs": [],
   "source": [
    "query='''Select * FROM [SAURABH].[dbo].[students]'''"
   ]
  },
  {
   "cell_type": "code",
   "execution_count": null,
   "metadata": {},
   "outputs": [
    {
     "name": "stderr",
     "output_type": "stream",
     "text": [
      "C:\\Users\\SAURABH\\AppData\\Local\\Temp\\ipykernel_4964\\4270073865.py:2: UserWarning: pandas only supports SQLAlchemy connectable (engine/connection) or database string URI or sqlite3 DBAPI2 connection. Other DBAPI2 objects are not tested. Please consider using SQLAlchemy.\n",
      "  result=pd.read_sql(query,conn)\n"
     ]
    }
   ],
   "source": [
    "import pandas as pd\n",
    "result=pd.read_sql(query,conn)"
   ]
  },
  {
   "cell_type": "code",
   "execution_count": null,
   "metadata": {},
   "outputs": [],
   "source": [
    "final=[]"
   ]
  },
  {
   "cell_type": "code",
   "execution_count": null,
   "metadata": {},
   "outputs": [],
   "source": []
  },
  {
   "cell_type": "code",
   "execution_count": null,
   "metadata": {},
   "outputs": [],
   "source": [
    "final=[]\n",
    "conn = pyodbc.connect('DRIVER={SQL Server};'\n",
    "                              'SERVER=SAURABH-PC\\\\SQLEXPRESS;'\n",
    "                              'DATABASE=SAURABH;'\n",
    "                              'Trusted_Connection=yes;'\n",
    "                              )\n",
    "cursor = conn.cursor()\n",
    "cursor.execute('''SELECT  [id]\n",
    "      ,[name]\n",
    "      ,[age]\n",
    "      ,[gender]\n",
    "      ,[course]\n",
    "  FROM [SAURABH].[dbo].[students]\n",
    "                   ''')\n",
    "for row in cursor.fetchall():\n",
    "    final.append(row)\n",
    "    df = pd.DataFrame(final)\n",
    "    ##print('row = %r' % (row,))\n",
    "   \n",
    "conn.commit()\n",
    "conn.close()\n",
    "del final\n"
   ]
  },
  {
   "cell_type": "code",
   "execution_count": null,
   "metadata": {},
   "outputs": [
    {
     "data": {
      "text/html": [
       "<div>\n",
       "<style scoped>\n",
       "    .dataframe tbody tr th:only-of-type {\n",
       "        vertical-align: middle;\n",
       "    }\n",
       "\n",
       "    .dataframe tbody tr th {\n",
       "        vertical-align: top;\n",
       "    }\n",
       "\n",
       "    .dataframe thead th {\n",
       "        text-align: right;\n",
       "    }\n",
       "</style>\n",
       "<table border=\"1\" class=\"dataframe\">\n",
       "  <thead>\n",
       "    <tr style=\"text-align: right;\">\n",
       "      <th></th>\n",
       "      <th>0</th>\n",
       "    </tr>\n",
       "  </thead>\n",
       "  <tbody>\n",
       "    <tr>\n",
       "      <th>0</th>\n",
       "      <td>[1, Saurabh, 32, Male, test]</td>\n",
       "    </tr>\n",
       "    <tr>\n",
       "      <th>1</th>\n",
       "      <td>[2, Saurabh, 32, Male, test]</td>\n",
       "    </tr>\n",
       "    <tr>\n",
       "      <th>2</th>\n",
       "      <td>[3, Saurabh, 33, Male, test]</td>\n",
       "    </tr>\n",
       "  </tbody>\n",
       "</table>\n",
       "</div>"
      ],
      "text/plain": [
       "                              0\n",
       "0  [1, Saurabh, 32, Male, test]\n",
       "1  [2, Saurabh, 32, Male, test]\n",
       "2  [3, Saurabh, 33, Male, test]"
      ]
     },
     "execution_count": 62,
     "metadata": {},
     "output_type": "execute_result"
    }
   ],
   "source": [
    "df"
   ]
  },
  {
   "cell_type": "code",
   "execution_count": null,
   "metadata": {},
   "outputs": [
    {
     "ename": "NameError",
     "evalue": "name 'final' is not defined",
     "output_type": "error",
     "traceback": [
      "\u001b[1;31m---------------------------------------------------------------------------\u001b[0m",
      "\u001b[1;31mNameError\u001b[0m                                 Traceback (most recent call last)",
      "Cell \u001b[1;32mIn[55], line 2\u001b[0m\n\u001b[0;32m      1\u001b[0m \u001b[38;5;28;01mdel\u001b[39;00m df\n\u001b[1;32m----> 2\u001b[0m \u001b[38;5;28;01mdel\u001b[39;00m \u001b[43mfinal\u001b[49m\n",
      "\u001b[1;31mNameError\u001b[0m: name 'final' is not defined"
     ]
    }
   ],
   "source": [
    "del df\n",
    "del final\n"
   ]
  },
  {
   "cell_type": "code",
   "execution_count": null,
   "metadata": {},
   "outputs": [
    {
     "ename": "NameError",
     "evalue": "name 'df' is not defined",
     "output_type": "error",
     "traceback": [
      "\u001b[1;31m---------------------------------------------------------------------------\u001b[0m",
      "\u001b[1;31mNameError\u001b[0m                                 Traceback (most recent call last)",
      "Cell \u001b[1;32mIn[39], line 1\u001b[0m\n\u001b[1;32m----> 1\u001b[0m \u001b[43mdf\u001b[49m\n",
      "\u001b[1;31mNameError\u001b[0m: name 'df' is not defined"
     ]
    }
   ],
   "source": [
    "df"
   ]
  },
  {
   "cell_type": "code",
   "execution_count": null,
   "metadata": {},
   "outputs": [],
   "source": []
  },
  {
   "cell_type": "code",
   "execution_count": null,
   "metadata": {},
   "outputs": [
    {
     "name": "stdout",
     "output_type": "stream",
     "text": [
      "Connection successful!\n"
     ]
    },
    {
     "name": "stderr",
     "output_type": "stream",
     "text": [
      "<>:6: SyntaxWarning: invalid escape sequence '\\S'\n",
      "<>:6: SyntaxWarning: invalid escape sequence '\\S'\n",
      "C:\\Users\\SAURABH\\AppData\\Local\\Temp\\ipykernel_4964\\3116180298.py:6: SyntaxWarning: invalid escape sequence '\\S'\n",
      "  'SERVER=SAURABH-PC\\SQLEXPRESS;'\n"
     ]
    }
   ],
   "source": [
    "import pyodbc\n",
    "\n",
    "def test_connection():\n",
    "    try:\n",
    "        conn = pyodbc.connect('DRIVER={SQL Server};'\n",
    "                              'SERVER=SAURABH-PC\\SQLEXPRESS;'\n",
    "                              'DATABASE=SAURABH;'\n",
    "                              'Trusted_Connection=yes;'\n",
    "                              )\n",
    "        cursor = conn.cursor()\n",
    "        cursor.execute('SELECT 1')\n",
    "        row = cursor.fetchone()\n",
    "        if row:\n",
    "            print(\"Connection successful!\")\n",
    "        conn.close()\n",
    "    except pyodbc.Error as ex:\n",
    "        sqlstate = ex.args[1]\n",
    "        print(f\"Connection error: {sqlstate}\")\n",
    "\n",
    "test_connection()\n"
   ]
  },
  {
   "cell_type": "code",
   "execution_count": null,
   "metadata": {},
   "outputs": [
    {
     "name": "stdout",
     "output_type": "stream",
     "text": [
      "['output_file.xlsx', 'sample_data.csv', 'sample_data.xlsb', 'student_form.py', 'student_form_new.py', 'test.ipynb']\n"
     ]
    }
   ],
   "source": [
    "##To Get the list of files and Folder present in any directory of the system\n",
    "\n",
    "import os\n",
    "# Select the directory whose content you want to list \n",
    "directory_path = r'C:\\Users\\SAURABH\\Desktop\\VS_CODE'\n",
    "# Use the os module to list the directory content \n",
    "contents = os.listdir(directory_path)\n",
    "# Print the contents of the directory \n",
    "print(contents)"
   ]
  },
  {
   "cell_type": "code",
   "execution_count": 2,
   "metadata": {},
   "outputs": [
    {
     "ename": "ModuleNotFoundError",
     "evalue": "No module named 'excel_writer'",
     "output_type": "error",
     "traceback": [
      "\u001b[1;31m---------------------------------------------------------------------------\u001b[0m",
      "\u001b[1;31mModuleNotFoundError\u001b[0m                       Traceback (most recent call last)",
      "Cell \u001b[1;32mIn[2], line 2\u001b[0m\n\u001b[0;32m      1\u001b[0m \u001b[38;5;28;01mimport\u001b[39;00m \u001b[38;5;21;01mpandas\u001b[39;00m \u001b[38;5;28;01mas\u001b[39;00m \u001b[38;5;21;01mpd\u001b[39;00m\n\u001b[1;32m----> 2\u001b[0m \u001b[38;5;28;01mfrom\u001b[39;00m \u001b[38;5;21;01mexcel_writer\u001b[39;00m \u001b[38;5;28;01mimport\u001b[39;00m ExcelWriter\n",
      "\u001b[1;31mModuleNotFoundError\u001b[0m: No module named 'excel_writer'"
     ]
    }
   ],
   "source": [
    "import pandas as pd\n",
    "from excel_writer import ExcelWriter"
   ]
  },
  {
   "cell_type": "code",
   "execution_count": null,
   "metadata": {},
   "outputs": [],
   "source": [
    "input_data = {\n",
    "    \"Name\": [\"Aarav\", \"Jayesh\", \"Vineet\", \"Rahul\", \"Mayank\", \"Deepak\"],\n",
    "    \"Age\": [24, 28, 27, 25, 28, 35],\n",
    "    \"Emp Id\": [\"A-001\", \"A-002\", \"A-003\", \"A-004\", \"A-005\", \"A-006\"],\n",
    "    \"City\": [\"Indore\", \"Bhopal\", \"Gwalior\", \"Pune\", \"Kolkata\", \"Udaipur\"],\n",
    "    \"Has Bike\": [\"Y\", \"Y\", \"Y\", \"Y\", \"Y\", \"Y\"]\n",
    "}"
   ]
  },
  {
   "cell_type": "code",
   "execution_count": null,
   "metadata": {},
   "outputs": [],
   "source": [
    "import pandas as pd\n",
    "\n",
    "# Sample data for the DataFrame\n",
    "data = {\n",
    "    'Name': ['John', 'Alice', 'Bob', 'Eve'],\n",
    "    'Age': [23, 25, 22, 24],\n",
    "    'City': ['New York', 'Los Angeles', 'Chicago', 'Houston']\n",
    "}\n",
    "\n",
    "# Create a DataFrame\n",
    "df = pd.DataFrame(data)\n",
    "\n",
    "# Write the DataFrame to an Excel file\n",
    "df.to_excel('output.xlsx', index=False)\n",
    "\n",
    "print(\"DataFrame has been written to 'output.xlsx'\")\n"
   ]
  },
  {
   "cell_type": "code",
   "execution_count": 6,
   "metadata": {},
   "outputs": [
    {
     "name": "stdout",
     "output_type": "stream",
     "text": [
      "Existing sheets: ['New_Sheet']\n"
     ]
    }
   ],
   "source": [
    "sheet_names = book.sheetnames\n",
    "print(f\"Existing sheets: {sheet_names}\")"
   ]
  },
  {
   "cell_type": "code",
   "execution_count": 9,
   "metadata": {},
   "outputs": [
    {
     "name": "stdout",
     "output_type": "stream",
     "text": [
      "An error occurred: File is not a zip file\n"
     ]
    }
   ],
   "source": [
    "import pandas as pd\n",
    "from openpyxl import load_workbook\n",
    "import os\n",
    "\n",
    "# Sample data for the DataFrame\n",
    "data = {\n",
    "    'Name': ['John', 'Alice', 'Bob', 'Eve'],\n",
    "    'Age': [23, 25, 22, 24],\n",
    "    'City': ['New York', 'Los Angeles', 'Chicago', 'Houston']\n",
    "}\n",
    "\n",
    "# Create a DataFrame\n",
    "df = pd.DataFrame(data)\n",
    "\n",
    "# Path to the existing Excel file\n",
    "file_path = 'sample_data.xlsx'\n",
    "\n",
    "# Check if the file exists and is a valid Excel file\n",
    "if os.path.isfile(file_path) and file_path.endswith('.xlsx'):\n",
    "    try:\n",
    "        # Load the existing workbook\n",
    "        book = load_workbook(file_path)\n",
    "\n",
    "        # Get the existing sheet names\n",
    "        sheet_names = book.sheetnames\n",
    "        print(f\"Existing sheets: {sheet_names}\")\n",
    "\n",
    "        # Define the name of the sheet where you want to write the data\n",
    "        sheet_name = 'New_Sheet'\n",
    "\n",
    "        # Use ExcelWriter with the existing book\n",
    "        with pd.ExcelWriter(file_path, engine='openpyxl', mode='a') as writer:\n",
    "            writer.book = book\n",
    "            writer.sheets = {ws.title: ws for ws in book.worksheets}\n",
    "\n",
    "            # Write DataFrame to a new sheet or existing sheet\n",
    "            df.to_excel(writer, sheet_name=sheet_name, index=False)\n",
    "\n",
    "            # Save the workbook\n",
    "            writer.save()\n",
    "\n",
    "        print(f\"DataFrame has been written to '{file_path}' in sheet '{sheet_name}'\")\n",
    "\n",
    "    except Exception as e:\n",
    "        print(f\"An error occurred: {e}\")\n",
    "else:\n",
    "    print(f\"The file '{file_path}' does not exist or is not a valid .xlsx file.\")\n"
   ]
  },
  {
   "cell_type": "code",
   "execution_count": 17,
   "metadata": {},
   "outputs": [
    {
     "name": "stderr",
     "output_type": "stream",
     "text": [
      "<>:4: SyntaxWarning: list indices must be integers or slices, not tuple; perhaps you missed a comma?\n",
      "<>:4: SyntaxWarning: list indices must be integers or slices, not tuple; perhaps you missed a comma?\n",
      "C:\\Users\\SAURABH\\AppData\\Local\\Temp\\ipykernel_20544\\3568152187.py:4: SyntaxWarning: list indices must be integers or slices, not tuple; perhaps you missed a comma?\n",
      "  df1 = pd.DataFrame(columns=['Name', 'ID']\n"
     ]
    },
    {
     "ename": "TypeError",
     "evalue": "list indices must be integers or slices, not tuple",
     "output_type": "error",
     "traceback": [
      "\u001b[1;31m---------------------------------------------------------------------------\u001b[0m",
      "\u001b[1;31mTypeError\u001b[0m                                 Traceback (most recent call last)",
      "Cell \u001b[1;32mIn[17], line 4\u001b[0m\n\u001b[0;32m      1\u001b[0m \u001b[38;5;28;01mimport\u001b[39;00m \u001b[38;5;21;01mpandas\u001b[39;00m \u001b[38;5;28;01mas\u001b[39;00m \u001b[38;5;21;01mpd\u001b[39;00m\n\u001b[0;32m      3\u001b[0m \u001b[38;5;66;03m# Creating the DataFrame\u001b[39;00m\n\u001b[1;32m----> 4\u001b[0m df1 \u001b[38;5;241m=\u001b[39m pd\u001b[38;5;241m.\u001b[39mDataFrame(columns\u001b[38;5;241m=\u001b[39m\u001b[43m[\u001b[49m\u001b[38;5;124;43m'\u001b[39;49m\u001b[38;5;124;43mName\u001b[39;49m\u001b[38;5;124;43m'\u001b[39;49m\u001b[43m,\u001b[49m\u001b[43m \u001b[49m\u001b[38;5;124;43m'\u001b[39;49m\u001b[38;5;124;43mID\u001b[39;49m\u001b[38;5;124;43m'\u001b[39;49m\u001b[43m]\u001b[49m\n\u001b[0;32m      5\u001b[0m \u001b[43m                        \u001b[49m\u001b[43m[\u001b[49m\u001b[43m[\u001b[49m\u001b[38;5;124;43m'\u001b[39;49m\u001b[38;5;124;43ma\u001b[39;49m\u001b[38;5;124;43m'\u001b[39;49m\u001b[43m,\u001b[49m\u001b[43m \u001b[49m\u001b[38;5;124;43m'\u001b[39;49m\u001b[38;5;124;43mb\u001b[39;49m\u001b[38;5;124;43m'\u001b[39;49m\u001b[43m]\u001b[49m\u001b[43m,\u001b[49m\u001b[43m \u001b[49m\u001b[43m{\u001b[49m\u001b[43m(\u001b[49m\u001b[38;5;241;43m1\u001b[39;49m\u001b[43m)\u001b[49m\u001b[43m,\u001b[49m\u001b[43m(\u001b[49m\u001b[38;5;241;43m2\u001b[39;49m\u001b[43m)\u001b[49m\u001b[43m}\u001b[49m\u001b[43m]\u001b[49m,\n\u001b[0;32m      6\u001b[0m                     )\n\u001b[0;32m      8\u001b[0m \u001b[38;5;66;03m# Writing the DataFrame to an Excel file without the index\u001b[39;00m\n\u001b[0;32m      9\u001b[0m df1\u001b[38;5;241m.\u001b[39mto_excel(\u001b[38;5;124m\"\u001b[39m\u001b[38;5;124moutput.xlsx\u001b[39m\u001b[38;5;124m\"\u001b[39m, index\u001b[38;5;241m=\u001b[39m\u001b[38;5;28;01mFalse\u001b[39;00m)\n",
      "\u001b[1;31mTypeError\u001b[0m: list indices must be integers or slices, not tuple"
     ]
    }
   ],
   "source": [
    "import pandas as pd\n",
    "\n",
    "# Creating the DataFrame\n",
    "df1 = pd.DataFrame(columns=['Name', 'ID']\n",
    "                        [['a', 'b'], {(1),(2)}],\n",
    "                    )\n",
    "\n",
    "# Writing the DataFrame to an Excel file without the index\n",
    "df1.to_excel(\"output.xlsx\", index=False)\n",
    "\n",
    "print(\"DataFrame has been written to 'output.xlsx' without the index\")\n"
   ]
  },
  {
   "cell_type": "code",
   "execution_count": 24,
   "metadata": {},
   "outputs": [
    {
     "name": "stdout",
     "output_type": "stream",
     "text": [
      "<class 'str'>\n",
      "<class 'float'>\n"
     ]
    }
   ],
   "source": [
    "## Here the value of a is String but in next line under b dataframe\n",
    "##We have given convert it to float\n",
    "a=\"31.2\"\n",
    "b=float(a)\n",
    "print(type(a))\n",
    "print(type(b))\n",
    "del b"
   ]
  },
  {
   "cell_type": "code",
   "execution_count": 30,
   "metadata": {},
   "outputs": [
    {
     "name": "stdout",
     "output_type": "stream",
     "text": [
      "Number a is:  1\n",
      "Number b is:  2\n",
      "Sum is  12\n"
     ]
    }
   ],
   "source": [
    "##Here we are giving value of a and b as string so it will concat both the values\n",
    "a= input(\"Enter number 1:\")\n",
    "b= input(\"Enter number 2:\")\n",
    "\n",
    "print(\"Number a is: \",a)\n",
    "print(\"Number b is: \",b)\n",
    "print(\"Sum is \",a+b)\n"
   ]
  },
  {
   "cell_type": "code",
   "execution_count": 32,
   "metadata": {},
   "outputs": [
    {
     "name": "stdout",
     "output_type": "stream",
     "text": [
      "Number a is:  1\n",
      "Number b is:  2\n",
      "Sum is  3\n",
      "<class 'int'>\n",
      "<class 'int'>\n"
     ]
    }
   ],
   "source": [
    "##Here we are giving value of a and b as string \n",
    "##but after entering we are coverting it into int value so it will sum both the values\n",
    "a= int(input(\"Enter number 1:\"))\n",
    "b= int(input(\"Enter number 2:\"))\n",
    "\n",
    "print(\"Number a is: \",a)\n",
    "print(\"Number b is: \",b)\n",
    "print(\"Sum is \",a+b)\n",
    "print(type(a))\n",
    "print(type(b))"
   ]
  },
  {
   "cell_type": "code",
   "execution_count": 38,
   "metadata": {},
   "outputs": [
    {
     "name": "stdout",
     "output_type": "stream",
     "text": [
      "7\n",
      "SAU\n",
      "SAU\n"
     ]
    }
   ],
   "source": [
    "##Substring or slicing of a string\n",
    "\n",
    "a=\"SAURABH\"\n",
    "print(len(a))\n",
    "##namesort=name[strat of index:end of index]\n",
    "shortname=a[0:3]\n",
    "shortname2=a[-7:-4]\n",
    "print(shortname)\n",
    "print(shortname2)"
   ]
  },
  {
   "cell_type": "code",
   "execution_count": 39,
   "metadata": {},
   "outputs": [
    {
     "name": "stdout",
     "output_type": "stream",
     "text": [
      "AURA\n",
      "AA\n"
     ]
    }
   ],
   "source": [
    "a=\"SAURABH SUMAN\"\n",
    "b=a[1:5:3]\n",
    "print(a[1:5])\n",
    "print(b)"
   ]
  },
  {
   "cell_type": "code",
   "execution_count": 41,
   "metadata": {},
   "outputs": [
    {
     "name": "stdout",
     "output_type": "stream",
     "text": [
      "7\n",
      "True\n",
      "True\n",
      "SAURABH\n"
     ]
    }
   ],
   "source": [
    "name=\"SAURABH\"\n",
    "print(len(name))\n",
    "b=name.endswith(\"BH\")\n",
    "print(b)\n",
    "c=name.startswith(\"SA\")\n",
    "print(c)\n",
    "print(name.upper())"
   ]
  },
  {
   "cell_type": "code",
   "execution_count": 45,
   "metadata": {},
   "outputs": [
    {
     "name": "stdout",
     "output_type": "stream",
     "text": [
      "SAURABH\n",
      "SUMAN\n",
      "SAURABH\n",
      "\"SUMAN\"\n"
     ]
    }
   ],
   "source": [
    "##Escape sequence character\n",
    "name=\"SAURABH\\nSUMAN\" ## to provide a new line\n",
    "name2=\"SAURABH\\n\\\"SUMAN\\\"\"  ## \\\" to give char in \" \"\n",
    "print(name)\n",
    "print(name2)"
   ]
  },
  {
   "cell_type": "code",
   "execution_count": 50,
   "metadata": {},
   "outputs": [
    {
     "name": "stdout",
     "output_type": "stream",
     "text": [
      "Good afternoon:SAURABH\n"
     ]
    }
   ],
   "source": [
    "name=input(\"Enter your name\")\n",
    "newname=f\"Good afternoon:{name}\"\n",
    "##print(f\"Good afternoon:{name}\")\n",
    "print(newname)"
   ]
  },
  {
   "cell_type": "code",
   "execution_count": 1,
   "metadata": {},
   "outputs": [
    {
     "ename": "ModuleNotFoundError",
     "evalue": "No module named 'cv2'",
     "output_type": "error",
     "traceback": [
      "\u001b[1;31m---------------------------------------------------------------------------\u001b[0m",
      "\u001b[1;31mModuleNotFoundError\u001b[0m                       Traceback (most recent call last)",
      "Cell \u001b[1;32mIn[1], line 1\u001b[0m\n\u001b[1;32m----> 1\u001b[0m \u001b[38;5;28;01mimport\u001b[39;00m \u001b[38;5;21;01mcv2\u001b[39;00m\n\u001b[0;32m      2\u001b[0m \u001b[38;5;28;01mimport\u001b[39;00m \u001b[38;5;21;01mnumpy\u001b[39;00m \u001b[38;5;28;01mas\u001b[39;00m \u001b[38;5;21;01mnp\u001b[39;00m\n\u001b[0;32m      3\u001b[0m \u001b[38;5;28;01mimport\u001b[39;00m \u001b[38;5;21;01mrandom\u001b[39;00m\n",
      "\u001b[1;31mModuleNotFoundError\u001b[0m: No module named 'cv2'"
     ]
    }
   ],
   "source": [
    "import cv2\n",
    "import numpy as np\n",
    "import random\n",
    "import os\n",
    "from PIL import Image\n",
    "import time\n",
    "import imutils\n",
    "from tensorflow.keras.models import load_model"
   ]
  },
  {
   "cell_type": "code",
   "execution_count": null,
   "metadata": {},
   "outputs": [],
   "source": [
    "import cv2\n",
    "import numpy as np\n",
    "import random\n",
    "import os\n",
    "from PIL import Image\n",
    "import time\n",
    "import imutils\n",
    "from tensorflow.keras.models import load_model\n",
    "\n",
    "os.environ['TF_FORCE_GPU_ALLOW_GROWTH'] = 'true'\n",
    "\n",
    "net = cv2.dnn.readNet(\"yolov3-custom_7000.weights\", \"yolov3-custom.cfg\")\n",
    "net.setPreferableBackend(cv2.dnn.DNN_BACKEND_CUDA)\n",
    "net.setPreferableTarget(cv2.dnn.DNN_TARGET_CUDA)\n",
    "\n",
    "\n",
    "model = load_model('helmet-nonhelmet_cnn.h5')\n",
    "print('model loaded!!!')\n",
    "\n",
    "cap = cv2.VideoCapture('testing videos/test2.mp4')\n",
    "COLORS = [(0,255,0),(0,0,255)]\n",
    "\n",
    "fourcc = cv2.VideoWriter_fourcc(*\"XVID\")\n",
    "writer = cv2.VideoWriter('output.avi', fourcc, 5,(888,500))\n",
    "writer = VideoWriter('output.avi',(frame.shape[1], frame.shape[0]))\n",
    "writer.open()\n",
    "\n",
    "\n",
    "def helmet_or_nohelmet(helmet_roi):\n",
    "    try:\n",
    "        helmet_roi = cv2.resize(helmet_roi, (224, 224))\n",
    "        helmet_roi = np.array(helmet_roi,dtype='float32')\n",
    "        helmet_roi = helmet_roi.reshape(1, 224, 224, 3)\n",
    "        helmet_roi = helmet_roi/255.0\n",
    "        return int(model.predict(helmet_roi)[0][0])\n",
    "    except:\n",
    "            pass\n",
    "\n",
    "layer_names = net.getLayerNames()\n",
    "output_layers = [layer_names[i[0] - 1] for i in net.getUnconnectedOutLayers()]\n",
    "\n",
    "ret = True\n",
    "\n",
    "while ret:\n",
    "\n",
    "    ret, img = cap.read()\n",
    "    img = imutils.resize(img,height=500)\n",
    "    # img = cv2.imread('test.png')\n",
    "    height, width = img.shape[:2]\n",
    "\n",
    "    blob = cv2.dnn.blobFromImage(img, 0.00392, (416, 416), (0, 0, 0), True, crop=False)\n",
    "\n",
    "    net.setInput(blob)\n",
    "    outs = net.forward(output_layers)\n",
    "\n",
    "    confidences = []\n",
    "    boxes = []\n",
    "    classIds = []\n",
    "\n",
    "    for out in outs:\n",
    "        for detection in out:\n",
    "            scores = detection[5:]\n",
    "            class_id = np.argmax(scores)\n",
    "            confidence = scores[class_id]\n",
    "            if confidence > 0.3:\n",
    "                center_x = int(detection[0] * width)\n",
    "                center_y = int(detection[1] * height)\n",
    "\n",
    "                w = int(detection[2] * width)\n",
    "                h = int(detection[3] * height)\n",
    "                x = int(center_x - w / 2)\n",
    "                y = int(center_y - h / 2)\n",
    "\n",
    "                boxes.append([x, y, w, h])\n",
    "                confidences.append(float(confidence))\n",
    "                classIds.append(class_id)\n",
    "\n",
    "    indexes = cv2.dnn.NMSBoxes(boxes, confidences, 0.5, 0.4)\n",
    "\n",
    "    for i in range(len(boxes)):\n",
    "        if i in indexes:\n",
    "            x,y,w,h = boxes[i]\n",
    "            color = [int(c) for c in COLORS[classIds[i]]]\n",
    "            # green --> bike\n",
    "            # red --> number plate\n",
    "            if classIds[i]==0: #bike\n",
    "                helmet_roi = img[max(0,y):max(0,y)+max(0,h)//4,max(0,x):max(0,x)+max(0,w)]\n",
    "            else: #number plate\n",
    "                x_h = x-60\n",
    "                y_h = y-350\n",
    "                w_h = w+100\n",
    "                h_h = h+100\n",
    "                cv2.rectangle(img, (x, y), (x + w, y + h), color, 7)\n",
    "                # h_r = img[max(0,(y-330)):max(0,(y-330 + h+100)) , max(0,(x-80)):max(0,(x-80 + w+130))]\n",
    "                if y_h>0 and x_h>0:\n",
    "                    h_r = img[y_h:y_h+h_h , x_h:x_h +w_h]\n",
    "                    c = helmet_or_nohelmet(h_r)\n",
    "                    cv2.putText(img,['helmet','no-helmet'][c],(x,y-100),cv2.FONT_HERSHEY_SIMPLEX,2,(0,255,0),2)                \n",
    "                    cv2.rectangle(img, (x_h, y_h), (x_h + w_h, y_h + h_h),(255,0,0), 10)\n",
    "\n",
    "\n",
    "    writer.write(img)\n",
    "    cv2.imshow(\"Image\", img)\n",
    "\n",
    "    if cv2.waitKey(1) == 27:\n",
    "        break\n",
    "\n",
    "writer.release()\n",
    "cap.release()\n",
    "cv2.waitKey(0)\n",
    "cv2.destroyAllWindows()"
   ]
  }
 ],
 "metadata": {
  "kernelspec": {
   "display_name": "Python 3",
   "language": "python",
   "name": "python3"
  },
  "language_info": {
   "codemirror_mode": {
    "name": "ipython",
    "version": 3
   },
   "file_extension": ".py",
   "mimetype": "text/x-python",
   "name": "python",
   "nbconvert_exporter": "python",
   "pygments_lexer": "ipython3",
   "version": "3.12.4"
  }
 },
 "nbformat": 4,
 "nbformat_minor": 2
}
